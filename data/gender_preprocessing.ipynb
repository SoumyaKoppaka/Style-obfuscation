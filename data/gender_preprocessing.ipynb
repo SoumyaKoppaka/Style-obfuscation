{
 "cells": [
  {
   "cell_type": "code",
   "execution_count": 5,
   "id": "526c8b7f",
   "metadata": {},
   "outputs": [
    {
     "name": "stderr",
     "output_type": "stream",
     "text": [
      "[nltk_data] Downloading package punkt to /Users/ben/nltk_data...\n",
      "[nltk_data]   Package punkt is already up-to-date!\n"
     ]
    }
   ],
   "source": [
    "import argparse\n",
    "import nltk.data\n",
    "import os\n",
    "import json\n",
    "from nltk.tokenize import word_tokenize\n",
    "from nltk.tokenize import RegexpTokenizer\n",
    "#from nltk.stem import WordNetLemmatizer,PorterStemmer\n",
    "from nltk.corpus import stopwords\n",
    "from collections import defaultdict\n",
    "import re\n",
    "import unicodedata\n",
    "import sys\n",
    "# from xml.etree import cElementTree as ET\n",
    "import lxml.etree\n",
    "from io import StringIO\n",
    "\n",
    "from tqdm import tqdm\n",
    "import nltk\n",
    "nltk.download('punkt')\n",
    "\n",
    "import numpy as np"
   ]
  },
  {
   "cell_type": "code",
   "execution_count": 6,
   "id": "787eb8ce",
   "metadata": {},
   "outputs": [],
   "source": [
    "train_prop = 0.7\n",
    "np.random.seed(0)\n",
    "\n",
    "all_genders = open(r\"gender_file.attr\", 'r').readlines()\n",
    "all_sent = open(r\"text.txt\", 'r').readlines()\n",
    "\n",
    "male_idx = [id for id, gender in enumerate(all_genders) if gender.strip() == 'male']\n",
    "female_idx = [id for id, gender in enumerate(all_genders) if gender.strip() == 'female']\n",
    "\n",
    "num_male = len(male_idx)\n",
    "male_idx_permuted = np.random.permutation(num_male)\n",
    "train_num_male = int(train_prop * num_male)\n",
    "\n",
    "num_female = len(female_idx)\n",
    "female_idx_permuted = np.random.permutation(num_female)\n",
    "train_num_female = int(train_prop * num_female)\n",
    "\n",
    "training_idx, test_idx = list(male_idx_permuted[:train_num_male]) + list(female_idx_permuted[:train_num_female]), list(male_idx_permuted[train_num_male:]) + list(female_idx_permuted[train_num_female:])"
   ]
  },
  {
   "cell_type": "code",
   "execution_count": 7,
   "id": "9aad426f",
   "metadata": {},
   "outputs": [
    {
     "name": "stderr",
     "output_type": "stream",
     "text": [
      "100%|███████████████████████████████| 460119/460119 [00:01<00:00, 393752.08it/s]\n",
      "100%|███████████████████████████████| 197196/197196 [00:00<00:00, 422886.04it/s]\n"
     ]
    }
   ],
   "source": [
    "GENDER_DICT = {\"female\":0, \"male\":1}\n",
    "gender_doms = len(GENDER_DICT.keys())\n",
    "\n",
    "train_gender_src_files = []\n",
    "dev_gender_src_files = []\n",
    "train_gender_trg_files = []\n",
    "dev_gender_trg_files = []\n",
    "\n",
    "for i in range(gender_doms):\n",
    "    train_gender_src_files.append(open('blogs224n.train.src.gender.{}'.format(i), 'w+'))\n",
    "    dev_gender_src_files.append(open('blogs224n.dev.src.gender.{}'.format(i), 'w+'))\n",
    "\n",
    "    train_gender_trg_files.append(open('blogs224n.train.trg.gender.{}'.format(i), 'w+'))\n",
    "    dev_gender_trg_files.append(open('blogs224n.dev.trg.gender.{}'.format(i), 'w+'))\n",
    "\n",
    "train_gender_src_consolidated = open('blogs224n.train.src.txt', 'w+')\n",
    "dev_gender_src_consolidated = open('blogs224n.dev.src.txt', 'w+')\n",
    "\n",
    "train_gender_trg_consolidated = open('blogs224n.train.attr', 'w+')\n",
    "dev_gender_trg_consolidated = open('blogs224n.dev.attr', 'w+')\n",
    "\n",
    "for id in tqdm(training_idx):\n",
    "    sent = all_sent[id]\n",
    "    gender = all_genders[id].strip()\n",
    "    gender_id = 0 if gender=='male' else 1\n",
    "\n",
    "    train_gender_src_files[gender_id].write(sent)\n",
    "    train_gender_trg_files[gender_id].write('dom'+str(gender_id)+'\\n')\n",
    "\n",
    "    train_gender_src_consolidated.write(sent)\n",
    "    train_gender_trg_consolidated.write('dom'+str(gender_id)+'\\n')\n",
    "\n",
    "for id in tqdm(test_idx):\n",
    "    sent = all_sent[id]\n",
    "    gender = all_genders[id].strip()\n",
    "    gender_id = 0 if gender=='male' else 1\n",
    "\n",
    "    dev_gender_src_files[gender_id].write(sent)\n",
    "    dev_gender_trg_files[gender_id].write('dom'+str(gender_id)+'\\n')\n",
    "\n",
    "    dev_gender_src_consolidated.write(sent)\n",
    "    dev_gender_trg_consolidated.write('dom'+str(gender_id)+'\\n')"
   ]
  },
  {
   "cell_type": "code",
   "execution_count": null,
   "id": "641929f7",
   "metadata": {},
   "outputs": [],
   "source": []
  }
 ],
 "metadata": {
  "kernelspec": {
   "display_name": "Python 3 (ipykernel)",
   "language": "python",
   "name": "python3"
  },
  "language_info": {
   "codemirror_mode": {
    "name": "ipython",
    "version": 3
   },
   "file_extension": ".py",
   "mimetype": "text/x-python",
   "name": "python",
   "nbconvert_exporter": "python",
   "pygments_lexer": "ipython3",
   "version": "3.9.7"
  }
 },
 "nbformat": 4,
 "nbformat_minor": 5
}
